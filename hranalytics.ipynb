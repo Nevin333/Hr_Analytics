{
  "nbformat": 4,
  "nbformat_minor": 0,
  "metadata": {
    "colab": {
      "provenance": [],
      "mount_file_id": "1mTSWHQhaIJM-qIFOds_469liXb-lr7rM",
      "authorship_tag": "ABX9TyNkKgS0qSdV6nQq06ysFvMg",
      "include_colab_link": true
    },
    "kernelspec": {
      "name": "python3",
      "display_name": "Python 3"
    },
    "language_info": {
      "name": "python"
    }
  },
  "cells": [
    {
      "cell_type": "markdown",
      "metadata": {
        "id": "view-in-github",
        "colab_type": "text"
      },
      "source": [
        "<a href=\"https://colab.research.google.com/github/Nevin333/Hr_Analytics/blob/main/hranalytics.ipynb\" target=\"_parent\"><img src=\"https://colab.research.google.com/assets/colab-badge.svg\" alt=\"Open In Colab\"/></a>"
      ]
    },
    {
      "cell_type": "code",
      "execution_count": null,
      "metadata": {
        "id": "1aUwWLSaRp6p"
      },
      "outputs": [],
      "source": [
        "import pandas as pd\n",
        "import numpy as np\n",
        "import matplotlib.pyplot as plt\n",
        "import seaborn as sns\n",
        "%matplotlib inline"
      ]
    },
    {
      "cell_type": "markdown",
      "source": [
        "Importing the dataset"
      ],
      "metadata": {
        "id": "YmbQbqJGhYk6"
      }
    },
    {
      "cell_type": "code",
      "source": [
        "df= pd.read_csv(\"/content/drive/MyDrive/new/project/project 2/hr_analytics_train.csv\")"
      ],
      "metadata": {
        "id": "WDYUvXBOhGpy"
      },
      "execution_count": null,
      "outputs": []
    },
    {
      "cell_type": "code",
      "source": [
        "df.head()"
      ],
      "metadata": {
        "colab": {
          "base_uri": "https://localhost:8080/",
          "height": 340
        },
        "id": "n3NwdG7h8SDj",
        "outputId": "fdb2654d-3780-48fe-ffb4-ee3bfdab32e8"
      },
      "execution_count": null,
      "outputs": [
        {
          "output_type": "execute_result",
          "data": {
            "text/plain": [
              "   employee_id         department     region         education gender  \\\n",
              "0        65438  Sales & Marketing   region_7  Master's & above      f   \n",
              "1        65141         Operations  region_22        Bachelor's      m   \n",
              "2         7513  Sales & Marketing  region_19        Bachelor's      m   \n",
              "3         2542  Sales & Marketing  region_23        Bachelor's      m   \n",
              "4        48945         Technology  region_26        Bachelor's      m   \n",
              "\n",
              "  recruitment_channel  no_of_trainings  age  previous_year_rating  \\\n",
              "0            sourcing                1   35                   5.0   \n",
              "1               other                1   30                   5.0   \n",
              "2            sourcing                1   34                   3.0   \n",
              "3               other                2   39                   1.0   \n",
              "4               other                1   45                   3.0   \n",
              "\n",
              "   length_of_service  KPIs_met >80%  awards_won?  avg_training_score  \\\n",
              "0                  8              1            0                  49   \n",
              "1                  4              0            0                  60   \n",
              "2                  7              0            0                  50   \n",
              "3                 10              0            0                  50   \n",
              "4                  2              0            0                  73   \n",
              "\n",
              "   is_promoted  \n",
              "0            0  \n",
              "1            0  \n",
              "2            0  \n",
              "3            0  \n",
              "4            0  "
            ],
            "text/html": [
              "\n",
              "  <div id=\"df-6f1297d1-c6a7-494b-bc33-dd2872c9fda6\">\n",
              "    <div class=\"colab-df-container\">\n",
              "      <div>\n",
              "<style scoped>\n",
              "    .dataframe tbody tr th:only-of-type {\n",
              "        vertical-align: middle;\n",
              "    }\n",
              "\n",
              "    .dataframe tbody tr th {\n",
              "        vertical-align: top;\n",
              "    }\n",
              "\n",
              "    .dataframe thead th {\n",
              "        text-align: right;\n",
              "    }\n",
              "</style>\n",
              "<table border=\"1\" class=\"dataframe\">\n",
              "  <thead>\n",
              "    <tr style=\"text-align: right;\">\n",
              "      <th></th>\n",
              "      <th>employee_id</th>\n",
              "      <th>department</th>\n",
              "      <th>region</th>\n",
              "      <th>education</th>\n",
              "      <th>gender</th>\n",
              "      <th>recruitment_channel</th>\n",
              "      <th>no_of_trainings</th>\n",
              "      <th>age</th>\n",
              "      <th>previous_year_rating</th>\n",
              "      <th>length_of_service</th>\n",
              "      <th>KPIs_met &gt;80%</th>\n",
              "      <th>awards_won?</th>\n",
              "      <th>avg_training_score</th>\n",
              "      <th>is_promoted</th>\n",
              "    </tr>\n",
              "  </thead>\n",
              "  <tbody>\n",
              "    <tr>\n",
              "      <th>0</th>\n",
              "      <td>65438</td>\n",
              "      <td>Sales &amp; Marketing</td>\n",
              "      <td>region_7</td>\n",
              "      <td>Master's &amp; above</td>\n",
              "      <td>f</td>\n",
              "      <td>sourcing</td>\n",
              "      <td>1</td>\n",
              "      <td>35</td>\n",
              "      <td>5.0</td>\n",
              "      <td>8</td>\n",
              "      <td>1</td>\n",
              "      <td>0</td>\n",
              "      <td>49</td>\n",
              "      <td>0</td>\n",
              "    </tr>\n",
              "    <tr>\n",
              "      <th>1</th>\n",
              "      <td>65141</td>\n",
              "      <td>Operations</td>\n",
              "      <td>region_22</td>\n",
              "      <td>Bachelor's</td>\n",
              "      <td>m</td>\n",
              "      <td>other</td>\n",
              "      <td>1</td>\n",
              "      <td>30</td>\n",
              "      <td>5.0</td>\n",
              "      <td>4</td>\n",
              "      <td>0</td>\n",
              "      <td>0</td>\n",
              "      <td>60</td>\n",
              "      <td>0</td>\n",
              "    </tr>\n",
              "    <tr>\n",
              "      <th>2</th>\n",
              "      <td>7513</td>\n",
              "      <td>Sales &amp; Marketing</td>\n",
              "      <td>region_19</td>\n",
              "      <td>Bachelor's</td>\n",
              "      <td>m</td>\n",
              "      <td>sourcing</td>\n",
              "      <td>1</td>\n",
              "      <td>34</td>\n",
              "      <td>3.0</td>\n",
              "      <td>7</td>\n",
              "      <td>0</td>\n",
              "      <td>0</td>\n",
              "      <td>50</td>\n",
              "      <td>0</td>\n",
              "    </tr>\n",
              "    <tr>\n",
              "      <th>3</th>\n",
              "      <td>2542</td>\n",
              "      <td>Sales &amp; Marketing</td>\n",
              "      <td>region_23</td>\n",
              "      <td>Bachelor's</td>\n",
              "      <td>m</td>\n",
              "      <td>other</td>\n",
              "      <td>2</td>\n",
              "      <td>39</td>\n",
              "      <td>1.0</td>\n",
              "      <td>10</td>\n",
              "      <td>0</td>\n",
              "      <td>0</td>\n",
              "      <td>50</td>\n",
              "      <td>0</td>\n",
              "    </tr>\n",
              "    <tr>\n",
              "      <th>4</th>\n",
              "      <td>48945</td>\n",
              "      <td>Technology</td>\n",
              "      <td>region_26</td>\n",
              "      <td>Bachelor's</td>\n",
              "      <td>m</td>\n",
              "      <td>other</td>\n",
              "      <td>1</td>\n",
              "      <td>45</td>\n",
              "      <td>3.0</td>\n",
              "      <td>2</td>\n",
              "      <td>0</td>\n",
              "      <td>0</td>\n",
              "      <td>73</td>\n",
              "      <td>0</td>\n",
              "    </tr>\n",
              "  </tbody>\n",
              "</table>\n",
              "</div>\n",
              "      <button class=\"colab-df-convert\" onclick=\"convertToInteractive('df-6f1297d1-c6a7-494b-bc33-dd2872c9fda6')\"\n",
              "              title=\"Convert this dataframe to an interactive table.\"\n",
              "              style=\"display:none;\">\n",
              "        \n",
              "  <svg xmlns=\"http://www.w3.org/2000/svg\" height=\"24px\"viewBox=\"0 0 24 24\"\n",
              "       width=\"24px\">\n",
              "    <path d=\"M0 0h24v24H0V0z\" fill=\"none\"/>\n",
              "    <path d=\"M18.56 5.44l.94 2.06.94-2.06 2.06-.94-2.06-.94-.94-2.06-.94 2.06-2.06.94zm-11 1L8.5 8.5l.94-2.06 2.06-.94-2.06-.94L8.5 2.5l-.94 2.06-2.06.94zm10 10l.94 2.06.94-2.06 2.06-.94-2.06-.94-.94-2.06-.94 2.06-2.06.94z\"/><path d=\"M17.41 7.96l-1.37-1.37c-.4-.4-.92-.59-1.43-.59-.52 0-1.04.2-1.43.59L10.3 9.45l-7.72 7.72c-.78.78-.78 2.05 0 2.83L4 21.41c.39.39.9.59 1.41.59.51 0 1.02-.2 1.41-.59l7.78-7.78 2.81-2.81c.8-.78.8-2.07 0-2.86zM5.41 20L4 18.59l7.72-7.72 1.47 1.35L5.41 20z\"/>\n",
              "  </svg>\n",
              "      </button>\n",
              "      \n",
              "  <style>\n",
              "    .colab-df-container {\n",
              "      display:flex;\n",
              "      flex-wrap:wrap;\n",
              "      gap: 12px;\n",
              "    }\n",
              "\n",
              "    .colab-df-convert {\n",
              "      background-color: #E8F0FE;\n",
              "      border: none;\n",
              "      border-radius: 50%;\n",
              "      cursor: pointer;\n",
              "      display: none;\n",
              "      fill: #1967D2;\n",
              "      height: 32px;\n",
              "      padding: 0 0 0 0;\n",
              "      width: 32px;\n",
              "    }\n",
              "\n",
              "    .colab-df-convert:hover {\n",
              "      background-color: #E2EBFA;\n",
              "      box-shadow: 0px 1px 2px rgba(60, 64, 67, 0.3), 0px 1px 3px 1px rgba(60, 64, 67, 0.15);\n",
              "      fill: #174EA6;\n",
              "    }\n",
              "\n",
              "    [theme=dark] .colab-df-convert {\n",
              "      background-color: #3B4455;\n",
              "      fill: #D2E3FC;\n",
              "    }\n",
              "\n",
              "    [theme=dark] .colab-df-convert:hover {\n",
              "      background-color: #434B5C;\n",
              "      box-shadow: 0px 1px 3px 1px rgba(0, 0, 0, 0.15);\n",
              "      filter: drop-shadow(0px 1px 2px rgba(0, 0, 0, 0.3));\n",
              "      fill: #FFFFFF;\n",
              "    }\n",
              "  </style>\n",
              "\n",
              "      <script>\n",
              "        const buttonEl =\n",
              "          document.querySelector('#df-6f1297d1-c6a7-494b-bc33-dd2872c9fda6 button.colab-df-convert');\n",
              "        buttonEl.style.display =\n",
              "          google.colab.kernel.accessAllowed ? 'block' : 'none';\n",
              "\n",
              "        async function convertToInteractive(key) {\n",
              "          const element = document.querySelector('#df-6f1297d1-c6a7-494b-bc33-dd2872c9fda6');\n",
              "          const dataTable =\n",
              "            await google.colab.kernel.invokeFunction('convertToInteractive',\n",
              "                                                     [key], {});\n",
              "          if (!dataTable) return;\n",
              "\n",
              "          const docLinkHtml = 'Like what you see? Visit the ' +\n",
              "            '<a target=\"_blank\" href=https://colab.research.google.com/notebooks/data_table.ipynb>data table notebook</a>'\n",
              "            + ' to learn more about interactive tables.';\n",
              "          element.innerHTML = '';\n",
              "          dataTable['output_type'] = 'display_data';\n",
              "          await google.colab.output.renderOutput(dataTable, element);\n",
              "          const docLink = document.createElement('div');\n",
              "          docLink.innerHTML = docLinkHtml;\n",
              "          element.appendChild(docLink);\n",
              "        }\n",
              "      </script>\n",
              "    </div>\n",
              "  </div>\n",
              "  "
            ]
          },
          "metadata": {},
          "execution_count": 7
        }
      ]
    },
    {
      "cell_type": "code",
      "source": [
        "df.info()"
      ],
      "metadata": {
        "colab": {
          "base_uri": "https://localhost:8080/"
        },
        "id": "UWvg8trT85XC",
        "outputId": "b513c4f0-bc5c-4ce3-cf64-0c8091124245"
      },
      "execution_count": null,
      "outputs": [
        {
          "output_type": "stream",
          "name": "stdout",
          "text": [
            "<class 'pandas.core.frame.DataFrame'>\n",
            "RangeIndex: 54808 entries, 0 to 54807\n",
            "Data columns (total 14 columns):\n",
            " #   Column                Non-Null Count  Dtype  \n",
            "---  ------                --------------  -----  \n",
            " 0   employee_id           54808 non-null  int64  \n",
            " 1   department            54808 non-null  object \n",
            " 2   region                54808 non-null  object \n",
            " 3   education             52399 non-null  object \n",
            " 4   gender                54808 non-null  object \n",
            " 5   recruitment_channel   54808 non-null  object \n",
            " 6   no_of_trainings       54808 non-null  int64  \n",
            " 7   age                   54808 non-null  int64  \n",
            " 8   previous_year_rating  50684 non-null  float64\n",
            " 9   length_of_service     54808 non-null  int64  \n",
            " 10  KPIs_met >80%         54808 non-null  int64  \n",
            " 11  awards_won?           54808 non-null  int64  \n",
            " 12  avg_training_score    54808 non-null  int64  \n",
            " 13  is_promoted           54808 non-null  int64  \n",
            "dtypes: float64(1), int64(8), object(5)\n",
            "memory usage: 5.9+ MB\n"
          ]
        }
      ]
    },
    {
      "cell_type": "code",
      "source": [
        "df.columns"
      ],
      "metadata": {
        "colab": {
          "base_uri": "https://localhost:8080/"
        },
        "id": "u8uuPPPnAWzS",
        "outputId": "a234c4a0-d6c7-4170-a01e-d06246669ac2"
      },
      "execution_count": null,
      "outputs": [
        {
          "output_type": "execute_result",
          "data": {
            "text/plain": [
              "Index(['employee_id', 'department', 'region', 'education', 'gender',\n",
              "       'recruitment_channel', 'no_of_trainings', 'age', 'previous_year_rating',\n",
              "       'length_of_service', 'KPIs_met >80%', 'awards_won?',\n",
              "       'avg_training_score', 'is_promoted'],\n",
              "      dtype='object')"
            ]
          },
          "metadata": {},
          "execution_count": 11
        }
      ]
    },
    {
      "cell_type": "code",
      "source": [],
      "metadata": {
        "id": "1SUYUJWBBA5Z"
      },
      "execution_count": null,
      "outputs": []
    }
  ]
}